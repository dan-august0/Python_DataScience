{
  "nbformat": 4,
  "nbformat_minor": 0,
  "metadata": {
    "colab": {
      "provenance": [],
      "authorship_tag": "ABX9TyOMrequPaJeVVSxp7sqEN5i",
      "include_colab_link": true
    },
    "kernelspec": {
      "name": "python3",
      "display_name": "Python 3"
    },
    "language_info": {
      "name": "python"
    }
  },
  "cells": [
    {
      "cell_type": "markdown",
      "metadata": {
        "id": "view-in-github",
        "colab_type": "text"
      },
      "source": [
        "<a href=\"https://colab.research.google.com/github/dan-august0/Python_DataScience/blob/main/An%C3%A1lise_Preditiva_com_o_Dataset_Titanic.ipynb\" target=\"_parent\"><img src=\"https://colab.research.google.com/assets/colab-badge.svg\" alt=\"Open In Colab\"/></a>"
      ]
    },
    {
      "cell_type": "markdown",
      "source": [
        "# Análise Preditiva - Dataset Titanic\n",
        "\n",
        "## Objetivo\n",
        "- Prever a **sobrevivência** dos passageiros.  \n",
        "- Estimar a **idade** dos passageiros a partir das outras variáveis.  \n",
        "\n",
        "## Tratamento do Dataset\n",
        "- Carregamento do dataset Titanic.  \n",
        "- Colunas com valores nulos tratadas:  \n",
        "  - `Embarked` → preenchido com o valor mais frequente.  \n",
        "  - `Fare` → preenchido com mediana.  \n",
        "  - `Age` → removidos os registros com valores nulos.  \n",
        "- Criada a coluna `HasCabin` para indicar se havia cabine registrada.  \n",
        "\n",
        "## Pré-processamento\n",
        "- Separação das variáveis em **numéricas** e **categóricas**.  \n",
        "- Numéricas: imputação (mediana) + padronização (StandardScaler).  \n",
        "- Categóricas: imputação (valor mais frequente) + One-Hot Encoding.  \n",
        "\n",
        "## Modelagem\n",
        "\n",
        "### 1. Previsão de Sobrevivência (Classificação)\n",
        "- Modelos utilizados:  \n",
        "  - Regressão Logística  \n",
        "  - Random Forest Classifier  \n",
        "- Avaliação com: accuracy, precision, recall, f1-score e classification report.  \n",
        "\n",
        "### 2. Estimativa de Idade (Regressão)\n",
        "- Modelo utilizado: Random Forest Regressor  \n",
        "- Avaliação com: MAE, RMSE e R²  \n",
        "\n",
        "## Visualizações\n",
        "- Distribuição de sobreviventes, sexo e classe.  \n",
        "- Idade média e tarifa média por sobrevivência (gráficos de barra).  \n",
        "- Distribuição geral das idades (histograma).  \n",
        "\n",
        "## Conclusão\n",
        "- Dataset limpo e padronizado.  \n",
        "- Sobrevivência dos passageiros foi prevista com modelos de classificação.  \n",
        "- Idades foram estimadas de forma precisa usando regressão."
      ],
      "metadata": {
        "id": "_s7fD-qLy0kR"
      }
    },
    {
      "cell_type": "code",
      "execution_count": 69,
      "metadata": {
        "id": "7B6MxFFirojZ"
      },
      "outputs": [],
      "source": [
        "# Manipulação de dados\n",
        "import pandas as pd\n",
        "import numpy as np\n",
        "\n",
        "# Visualização\n",
        "import matplotlib.pyplot as plt\n",
        "import seaborn as sns\n",
        "\n",
        "# Pré-processamento\n",
        "from sklearn.model_selection import train_test_split\n",
        "from sklearn.preprocessing import StandardScaler, OneHotEncoder\n",
        "from sklearn.compose import ColumnTransformer\n",
        "from sklearn.pipeline import Pipeline\n",
        "from sklearn.impute import SimpleImputer\n",
        "\n",
        "# Modelos de classificação\n",
        "from sklearn.linear_model import LogisticRegression\n",
        "from sklearn.ensemble import RandomForestClassifier\n",
        "\n",
        "# Modelos de regressão\n",
        "from sklearn.ensemble import RandomForestRegressor\n",
        "\n",
        "# Métricas de avaliação\n",
        "from sklearn.metrics import (\n",
        "    accuracy_score, precision_score, recall_score, f1_score, roc_auc_score,\n",
        "    confusion_matrix, classification_report,\n",
        "    mean_absolute_error, mean_squared_error, r2_score\n",
        ")\n"
      ]
    },
    {
      "cell_type": "code",
      "source": [
        "# Carregar dataset Titanic\n",
        "df = pd.read_csv(\"train.csv\")\n",
        "\n",
        "# Visualizar primeiras linhas\n",
        "print(\"Primeiras linhas do dataset:\")\n",
        "display(df.head())\n",
        "\n",
        "# Verificar valores nulos\n",
        "print(\"\\nValores nulos por coluna:\")\n",
        "print(df.isna().sum())"
      ],
      "metadata": {
        "id": "P-SBxtgKtqE7",
        "colab": {
          "base_uri": "https://localhost:8080/",
          "height": 484
        },
        "outputId": "f0c4f6a2-2c9c-45d6-ee1f-d07a108de060"
      },
      "execution_count": 52,
      "outputs": [
        {
          "output_type": "stream",
          "name": "stdout",
          "text": [
            "Primeiras linhas do dataset:\n"
          ]
        },
        {
          "output_type": "display_data",
          "data": {
            "text/plain": [
              "   PassengerId  Survived  Pclass  \\\n",
              "0            1         0       3   \n",
              "1            2         1       1   \n",
              "2            3         1       3   \n",
              "3            4         1       1   \n",
              "4            5         0       3   \n",
              "\n",
              "                                                Name     Sex   Age  SibSp  \\\n",
              "0                            Braund, Mr. Owen Harris    male  22.0      1   \n",
              "1  Cumings, Mrs. John Bradley (Florence Briggs Th...  female  38.0      1   \n",
              "2                             Heikkinen, Miss. Laina  female  26.0      0   \n",
              "3       Futrelle, Mrs. Jacques Heath (Lily May Peel)  female  35.0      1   \n",
              "4                           Allen, Mr. William Henry    male  35.0      0   \n",
              "\n",
              "   Parch            Ticket     Fare Cabin Embarked  \n",
              "0      0         A/5 21171   7.2500   NaN        S  \n",
              "1      0          PC 17599  71.2833   C85        C  \n",
              "2      0  STON/O2. 3101282   7.9250   NaN        S  \n",
              "3      0            113803  53.1000  C123        S  \n",
              "4      0            373450   8.0500   NaN        S  "
            ],
            "text/html": [
              "\n",
              "  <div id=\"df-dfec3636-d848-4ab7-855f-e2e4581edb59\" class=\"colab-df-container\">\n",
              "    <div>\n",
              "<style scoped>\n",
              "    .dataframe tbody tr th:only-of-type {\n",
              "        vertical-align: middle;\n",
              "    }\n",
              "\n",
              "    .dataframe tbody tr th {\n",
              "        vertical-align: top;\n",
              "    }\n",
              "\n",
              "    .dataframe thead th {\n",
              "        text-align: right;\n",
              "    }\n",
              "</style>\n",
              "<table border=\"1\" class=\"dataframe\">\n",
              "  <thead>\n",
              "    <tr style=\"text-align: right;\">\n",
              "      <th></th>\n",
              "      <th>PassengerId</th>\n",
              "      <th>Survived</th>\n",
              "      <th>Pclass</th>\n",
              "      <th>Name</th>\n",
              "      <th>Sex</th>\n",
              "      <th>Age</th>\n",
              "      <th>SibSp</th>\n",
              "      <th>Parch</th>\n",
              "      <th>Ticket</th>\n",
              "      <th>Fare</th>\n",
              "      <th>Cabin</th>\n",
              "      <th>Embarked</th>\n",
              "    </tr>\n",
              "  </thead>\n",
              "  <tbody>\n",
              "    <tr>\n",
              "      <th>0</th>\n",
              "      <td>1</td>\n",
              "      <td>0</td>\n",
              "      <td>3</td>\n",
              "      <td>Braund, Mr. Owen Harris</td>\n",
              "      <td>male</td>\n",
              "      <td>22.0</td>\n",
              "      <td>1</td>\n",
              "      <td>0</td>\n",
              "      <td>A/5 21171</td>\n",
              "      <td>7.2500</td>\n",
              "      <td>NaN</td>\n",
              "      <td>S</td>\n",
              "    </tr>\n",
              "    <tr>\n",
              "      <th>1</th>\n",
              "      <td>2</td>\n",
              "      <td>1</td>\n",
              "      <td>1</td>\n",
              "      <td>Cumings, Mrs. John Bradley (Florence Briggs Th...</td>\n",
              "      <td>female</td>\n",
              "      <td>38.0</td>\n",
              "      <td>1</td>\n",
              "      <td>0</td>\n",
              "      <td>PC 17599</td>\n",
              "      <td>71.2833</td>\n",
              "      <td>C85</td>\n",
              "      <td>C</td>\n",
              "    </tr>\n",
              "    <tr>\n",
              "      <th>2</th>\n",
              "      <td>3</td>\n",
              "      <td>1</td>\n",
              "      <td>3</td>\n",
              "      <td>Heikkinen, Miss. Laina</td>\n",
              "      <td>female</td>\n",
              "      <td>26.0</td>\n",
              "      <td>0</td>\n",
              "      <td>0</td>\n",
              "      <td>STON/O2. 3101282</td>\n",
              "      <td>7.9250</td>\n",
              "      <td>NaN</td>\n",
              "      <td>S</td>\n",
              "    </tr>\n",
              "    <tr>\n",
              "      <th>3</th>\n",
              "      <td>4</td>\n",
              "      <td>1</td>\n",
              "      <td>1</td>\n",
              "      <td>Futrelle, Mrs. Jacques Heath (Lily May Peel)</td>\n",
              "      <td>female</td>\n",
              "      <td>35.0</td>\n",
              "      <td>1</td>\n",
              "      <td>0</td>\n",
              "      <td>113803</td>\n",
              "      <td>53.1000</td>\n",
              "      <td>C123</td>\n",
              "      <td>S</td>\n",
              "    </tr>\n",
              "    <tr>\n",
              "      <th>4</th>\n",
              "      <td>5</td>\n",
              "      <td>0</td>\n",
              "      <td>3</td>\n",
              "      <td>Allen, Mr. William Henry</td>\n",
              "      <td>male</td>\n",
              "      <td>35.0</td>\n",
              "      <td>0</td>\n",
              "      <td>0</td>\n",
              "      <td>373450</td>\n",
              "      <td>8.0500</td>\n",
              "      <td>NaN</td>\n",
              "      <td>S</td>\n",
              "    </tr>\n",
              "  </tbody>\n",
              "</table>\n",
              "</div>\n",
              "    <div class=\"colab-df-buttons\">\n",
              "\n",
              "  <div class=\"colab-df-container\">\n",
              "    <button class=\"colab-df-convert\" onclick=\"convertToInteractive('df-dfec3636-d848-4ab7-855f-e2e4581edb59')\"\n",
              "            title=\"Convert this dataframe to an interactive table.\"\n",
              "            style=\"display:none;\">\n",
              "\n",
              "  <svg xmlns=\"http://www.w3.org/2000/svg\" height=\"24px\" viewBox=\"0 -960 960 960\">\n",
              "    <path d=\"M120-120v-720h720v720H120Zm60-500h600v-160H180v160Zm220 220h160v-160H400v160Zm0 220h160v-160H400v160ZM180-400h160v-160H180v160Zm440 0h160v-160H620v160ZM180-180h160v-160H180v160Zm440 0h160v-160H620v160Z\"/>\n",
              "  </svg>\n",
              "    </button>\n",
              "\n",
              "  <style>\n",
              "    .colab-df-container {\n",
              "      display:flex;\n",
              "      gap: 12px;\n",
              "    }\n",
              "\n",
              "    .colab-df-convert {\n",
              "      background-color: #E8F0FE;\n",
              "      border: none;\n",
              "      border-radius: 50%;\n",
              "      cursor: pointer;\n",
              "      display: none;\n",
              "      fill: #1967D2;\n",
              "      height: 32px;\n",
              "      padding: 0 0 0 0;\n",
              "      width: 32px;\n",
              "    }\n",
              "\n",
              "    .colab-df-convert:hover {\n",
              "      background-color: #E2EBFA;\n",
              "      box-shadow: 0px 1px 2px rgba(60, 64, 67, 0.3), 0px 1px 3px 1px rgba(60, 64, 67, 0.15);\n",
              "      fill: #174EA6;\n",
              "    }\n",
              "\n",
              "    .colab-df-buttons div {\n",
              "      margin-bottom: 4px;\n",
              "    }\n",
              "\n",
              "    [theme=dark] .colab-df-convert {\n",
              "      background-color: #3B4455;\n",
              "      fill: #D2E3FC;\n",
              "    }\n",
              "\n",
              "    [theme=dark] .colab-df-convert:hover {\n",
              "      background-color: #434B5C;\n",
              "      box-shadow: 0px 1px 3px 1px rgba(0, 0, 0, 0.15);\n",
              "      filter: drop-shadow(0px 1px 2px rgba(0, 0, 0, 0.3));\n",
              "      fill: #FFFFFF;\n",
              "    }\n",
              "  </style>\n",
              "\n",
              "    <script>\n",
              "      const buttonEl =\n",
              "        document.querySelector('#df-dfec3636-d848-4ab7-855f-e2e4581edb59 button.colab-df-convert');\n",
              "      buttonEl.style.display =\n",
              "        google.colab.kernel.accessAllowed ? 'block' : 'none';\n",
              "\n",
              "      async function convertToInteractive(key) {\n",
              "        const element = document.querySelector('#df-dfec3636-d848-4ab7-855f-e2e4581edb59');\n",
              "        const dataTable =\n",
              "          await google.colab.kernel.invokeFunction('convertToInteractive',\n",
              "                                                    [key], {});\n",
              "        if (!dataTable) return;\n",
              "\n",
              "        const docLinkHtml = 'Like what you see? Visit the ' +\n",
              "          '<a target=\"_blank\" href=https://colab.research.google.com/notebooks/data_table.ipynb>data table notebook</a>'\n",
              "          + ' to learn more about interactive tables.';\n",
              "        element.innerHTML = '';\n",
              "        dataTable['output_type'] = 'display_data';\n",
              "        await google.colab.output.renderOutput(dataTable, element);\n",
              "        const docLink = document.createElement('div');\n",
              "        docLink.innerHTML = docLinkHtml;\n",
              "        element.appendChild(docLink);\n",
              "      }\n",
              "    </script>\n",
              "  </div>\n",
              "\n",
              "\n",
              "    <div id=\"df-c87ad712-9ee2-4f94-9b32-650ebad91513\">\n",
              "      <button class=\"colab-df-quickchart\" onclick=\"quickchart('df-c87ad712-9ee2-4f94-9b32-650ebad91513')\"\n",
              "                title=\"Suggest charts\"\n",
              "                style=\"display:none;\">\n",
              "\n",
              "<svg xmlns=\"http://www.w3.org/2000/svg\" height=\"24px\"viewBox=\"0 0 24 24\"\n",
              "     width=\"24px\">\n",
              "    <g>\n",
              "        <path d=\"M19 3H5c-1.1 0-2 .9-2 2v14c0 1.1.9 2 2 2h14c1.1 0 2-.9 2-2V5c0-1.1-.9-2-2-2zM9 17H7v-7h2v7zm4 0h-2V7h2v10zm4 0h-2v-4h2v4z\"/>\n",
              "    </g>\n",
              "</svg>\n",
              "      </button>\n",
              "\n",
              "<style>\n",
              "  .colab-df-quickchart {\n",
              "      --bg-color: #E8F0FE;\n",
              "      --fill-color: #1967D2;\n",
              "      --hover-bg-color: #E2EBFA;\n",
              "      --hover-fill-color: #174EA6;\n",
              "      --disabled-fill-color: #AAA;\n",
              "      --disabled-bg-color: #DDD;\n",
              "  }\n",
              "\n",
              "  [theme=dark] .colab-df-quickchart {\n",
              "      --bg-color: #3B4455;\n",
              "      --fill-color: #D2E3FC;\n",
              "      --hover-bg-color: #434B5C;\n",
              "      --hover-fill-color: #FFFFFF;\n",
              "      --disabled-bg-color: #3B4455;\n",
              "      --disabled-fill-color: #666;\n",
              "  }\n",
              "\n",
              "  .colab-df-quickchart {\n",
              "    background-color: var(--bg-color);\n",
              "    border: none;\n",
              "    border-radius: 50%;\n",
              "    cursor: pointer;\n",
              "    display: none;\n",
              "    fill: var(--fill-color);\n",
              "    height: 32px;\n",
              "    padding: 0;\n",
              "    width: 32px;\n",
              "  }\n",
              "\n",
              "  .colab-df-quickchart:hover {\n",
              "    background-color: var(--hover-bg-color);\n",
              "    box-shadow: 0 1px 2px rgba(60, 64, 67, 0.3), 0 1px 3px 1px rgba(60, 64, 67, 0.15);\n",
              "    fill: var(--button-hover-fill-color);\n",
              "  }\n",
              "\n",
              "  .colab-df-quickchart-complete:disabled,\n",
              "  .colab-df-quickchart-complete:disabled:hover {\n",
              "    background-color: var(--disabled-bg-color);\n",
              "    fill: var(--disabled-fill-color);\n",
              "    box-shadow: none;\n",
              "  }\n",
              "\n",
              "  .colab-df-spinner {\n",
              "    border: 2px solid var(--fill-color);\n",
              "    border-color: transparent;\n",
              "    border-bottom-color: var(--fill-color);\n",
              "    animation:\n",
              "      spin 1s steps(1) infinite;\n",
              "  }\n",
              "\n",
              "  @keyframes spin {\n",
              "    0% {\n",
              "      border-color: transparent;\n",
              "      border-bottom-color: var(--fill-color);\n",
              "      border-left-color: var(--fill-color);\n",
              "    }\n",
              "    20% {\n",
              "      border-color: transparent;\n",
              "      border-left-color: var(--fill-color);\n",
              "      border-top-color: var(--fill-color);\n",
              "    }\n",
              "    30% {\n",
              "      border-color: transparent;\n",
              "      border-left-color: var(--fill-color);\n",
              "      border-top-color: var(--fill-color);\n",
              "      border-right-color: var(--fill-color);\n",
              "    }\n",
              "    40% {\n",
              "      border-color: transparent;\n",
              "      border-right-color: var(--fill-color);\n",
              "      border-top-color: var(--fill-color);\n",
              "    }\n",
              "    60% {\n",
              "      border-color: transparent;\n",
              "      border-right-color: var(--fill-color);\n",
              "    }\n",
              "    80% {\n",
              "      border-color: transparent;\n",
              "      border-right-color: var(--fill-color);\n",
              "      border-bottom-color: var(--fill-color);\n",
              "    }\n",
              "    90% {\n",
              "      border-color: transparent;\n",
              "      border-bottom-color: var(--fill-color);\n",
              "    }\n",
              "  }\n",
              "</style>\n",
              "\n",
              "      <script>\n",
              "        async function quickchart(key) {\n",
              "          const quickchartButtonEl =\n",
              "            document.querySelector('#' + key + ' button');\n",
              "          quickchartButtonEl.disabled = true;  // To prevent multiple clicks.\n",
              "          quickchartButtonEl.classList.add('colab-df-spinner');\n",
              "          try {\n",
              "            const charts = await google.colab.kernel.invokeFunction(\n",
              "                'suggestCharts', [key], {});\n",
              "          } catch (error) {\n",
              "            console.error('Error during call to suggestCharts:', error);\n",
              "          }\n",
              "          quickchartButtonEl.classList.remove('colab-df-spinner');\n",
              "          quickchartButtonEl.classList.add('colab-df-quickchart-complete');\n",
              "        }\n",
              "        (() => {\n",
              "          let quickchartButtonEl =\n",
              "            document.querySelector('#df-c87ad712-9ee2-4f94-9b32-650ebad91513 button');\n",
              "          quickchartButtonEl.style.display =\n",
              "            google.colab.kernel.accessAllowed ? 'block' : 'none';\n",
              "        })();\n",
              "      </script>\n",
              "    </div>\n",
              "\n",
              "    </div>\n",
              "  </div>\n"
            ],
            "application/vnd.google.colaboratory.intrinsic+json": {
              "type": "dataframe",
              "summary": "{\n  \"name\": \"print(df\",\n  \"rows\": 5,\n  \"fields\": [\n    {\n      \"column\": \"PassengerId\",\n      \"properties\": {\n        \"dtype\": \"number\",\n        \"std\": 1,\n        \"min\": 1,\n        \"max\": 5,\n        \"num_unique_values\": 5,\n        \"samples\": [\n          2,\n          5,\n          3\n        ],\n        \"semantic_type\": \"\",\n        \"description\": \"\"\n      }\n    },\n    {\n      \"column\": \"Survived\",\n      \"properties\": {\n        \"dtype\": \"number\",\n        \"std\": 0,\n        \"min\": 0,\n        \"max\": 1,\n        \"num_unique_values\": 2,\n        \"samples\": [\n          1,\n          0\n        ],\n        \"semantic_type\": \"\",\n        \"description\": \"\"\n      }\n    },\n    {\n      \"column\": \"Pclass\",\n      \"properties\": {\n        \"dtype\": \"number\",\n        \"std\": 1,\n        \"min\": 1,\n        \"max\": 3,\n        \"num_unique_values\": 2,\n        \"samples\": [\n          1,\n          3\n        ],\n        \"semantic_type\": \"\",\n        \"description\": \"\"\n      }\n    },\n    {\n      \"column\": \"Name\",\n      \"properties\": {\n        \"dtype\": \"string\",\n        \"num_unique_values\": 5,\n        \"samples\": [\n          \"Cumings, Mrs. John Bradley (Florence Briggs Thayer)\",\n          \"Allen, Mr. William Henry\"\n        ],\n        \"semantic_type\": \"\",\n        \"description\": \"\"\n      }\n    },\n    {\n      \"column\": \"Sex\",\n      \"properties\": {\n        \"dtype\": \"category\",\n        \"num_unique_values\": 2,\n        \"samples\": [\n          \"female\",\n          \"male\"\n        ],\n        \"semantic_type\": \"\",\n        \"description\": \"\"\n      }\n    },\n    {\n      \"column\": \"Age\",\n      \"properties\": {\n        \"dtype\": \"number\",\n        \"std\": 6.833739825307955,\n        \"min\": 22.0,\n        \"max\": 38.0,\n        \"num_unique_values\": 4,\n        \"samples\": [\n          38.0,\n          35.0\n        ],\n        \"semantic_type\": \"\",\n        \"description\": \"\"\n      }\n    },\n    {\n      \"column\": \"SibSp\",\n      \"properties\": {\n        \"dtype\": \"number\",\n        \"std\": 0,\n        \"min\": 0,\n        \"max\": 1,\n        \"num_unique_values\": 2,\n        \"samples\": [\n          0,\n          1\n        ],\n        \"semantic_type\": \"\",\n        \"description\": \"\"\n      }\n    },\n    {\n      \"column\": \"Parch\",\n      \"properties\": {\n        \"dtype\": \"number\",\n        \"std\": 0,\n        \"min\": 0,\n        \"max\": 0,\n        \"num_unique_values\": 1,\n        \"samples\": [\n          0\n        ],\n        \"semantic_type\": \"\",\n        \"description\": \"\"\n      }\n    },\n    {\n      \"column\": \"Ticket\",\n      \"properties\": {\n        \"dtype\": \"string\",\n        \"num_unique_values\": 5,\n        \"samples\": [\n          \"PC 17599\"\n        ],\n        \"semantic_type\": \"\",\n        \"description\": \"\"\n      }\n    },\n    {\n      \"column\": \"Fare\",\n      \"properties\": {\n        \"dtype\": \"number\",\n        \"std\": 30.5100288352535,\n        \"min\": 7.25,\n        \"max\": 71.2833,\n        \"num_unique_values\": 5,\n        \"samples\": [\n          71.2833\n        ],\n        \"semantic_type\": \"\",\n        \"description\": \"\"\n      }\n    },\n    {\n      \"column\": \"Cabin\",\n      \"properties\": {\n        \"dtype\": \"category\",\n        \"num_unique_values\": 2,\n        \"samples\": [\n          \"C123\"\n        ],\n        \"semantic_type\": \"\",\n        \"description\": \"\"\n      }\n    },\n    {\n      \"column\": \"Embarked\",\n      \"properties\": {\n        \"dtype\": \"category\",\n        \"num_unique_values\": 2,\n        \"samples\": [\n          \"C\"\n        ],\n        \"semantic_type\": \"\",\n        \"description\": \"\"\n      }\n    }\n  ]\n}"
            }
          },
          "metadata": {}
        },
        {
          "output_type": "stream",
          "name": "stdout",
          "text": [
            "\n",
            "Valores nulos por coluna:\n",
            "PassengerId      0\n",
            "Survived         0\n",
            "Pclass           0\n",
            "Name             0\n",
            "Sex              0\n",
            "Age            177\n",
            "SibSp            0\n",
            "Parch            0\n",
            "Ticket           0\n",
            "Fare             0\n",
            "Cabin          687\n",
            "Embarked         2\n",
            "dtype: int64\n"
          ]
        }
      ]
    },
    {
      "cell_type": "code",
      "source": [
        "# Cabin: criar coluna indicadora se possui cabine\n",
        "df[\"HasCabin\"] = df[\"Cabin\"].notna().astype(int)\n",
        "\n",
        "# Embarked: preencher nulos com o valor mais frequente\n",
        "df[\"Embarked\"] = df[\"Embarked\"].fillna(df[\"Embarked\"].mode()[0])\n",
        "\n",
        "# Fare: preencher nulos com mediana\n",
        "df[\"Fare\"] = df[\"Fare\"].fillna(df[\"Fare\"].median())\n",
        "\n",
        "# Age: remover linhas com valores nulos\n",
        "df = df.dropna(subset=[\"Age\"])\n",
        "\n",
        "# Conferir valores nulos restantes\n",
        "print(\"\\nValores nulos após tratamento:\")\n",
        "print(df.isna().sum())\n",
        "print(\"\\nShape do dataset após remoção de nulos em Age:\", df.shape)"
      ],
      "metadata": {
        "colab": {
          "base_uri": "https://localhost:8080/"
        },
        "id": "2alGknU0qG-q",
        "outputId": "2d197925-e902-48fe-d5ee-dda6501c7c81"
      },
      "execution_count": 72,
      "outputs": [
        {
          "output_type": "stream",
          "name": "stdout",
          "text": [
            "\n",
            "Valores nulos após tratamento:\n",
            "PassengerId      0\n",
            "Survived         0\n",
            "Pclass           0\n",
            "Name             0\n",
            "Sex              0\n",
            "Age              0\n",
            "SibSp            0\n",
            "Parch            0\n",
            "Ticket           0\n",
            "Fare             0\n",
            "Cabin          687\n",
            "Embarked         0\n",
            "HasCabin         0\n",
            "dtype: int64\n",
            "\n",
            "Shape do dataset após remoção de nulos em Age: (891, 13)\n"
          ]
        }
      ]
    },
    {
      "cell_type": "markdown",
      "source": [
        "📌 **Observação**:\n",
        "Mantive os nulos em Age agora, porque eles fazem parte do objetivo da minha atividade (prever a idade no final)."
      ],
      "metadata": {
        "id": "t37kKqATqskG"
      }
    },
    {
      "cell_type": "code",
      "source": [
        "# Selecionar features para os modelos\n",
        "# Obs: 'Age' ainda pode ter valores nulos  lidar com isso depois na regressão)\n",
        "features = [\"Pclass\", \"Sex\", \"Age\", \"SibSp\", \"Parch\", \"Fare\", \"Embarked\"]\n",
        "df_model = df[features + [\"Survived\"]]\n",
        "\n",
        "# Separar variáveis numéricas e categóricas\n",
        "num_features = [\"Age\", \"SibSp\", \"Parch\", \"Fare\"]\n",
        "cat_features = [\"Pclass\", \"Sex\", \"Embarked\"]\n",
        "\n",
        "# Transformações para cada tipo de variável\n",
        "num_transformer = Pipeline(steps=[\n",
        "    (\"imputer\", SimpleImputer(strategy=\"median\")),   # Preencher nulos com mediana\n",
        "    (\"scaler\", StandardScaler())                     # Padronizar (média=0, desvio=1)\n",
        "])\n",
        "\n",
        "cat_transformer = Pipeline(steps=[\n",
        "    (\"imputer\", SimpleImputer(strategy=\"most_frequent\")),  # Preencher nulos com mais frequente\n",
        "    (\"onehot\", OneHotEncoder(handle_unknown=\"ignore\"))     # One-Hot Encoding\n",
        "])\n",
        "\n",
        "# Juntar tudo em um ColumnTransformer\n",
        "preprocessor = ColumnTransformer(\n",
        "    transformers=[\n",
        "        (\"num\", num_transformer, num_features),\n",
        "        (\"cat\", cat_transformer, cat_features)\n",
        "    ]\n",
        ")\n",
        "\n",
        "# Testar o pré-processamento em X\n",
        "X = df_model.drop(\"Survived\", axis=1)\n",
        "y = df_model[\"Survived\"]\n",
        "\n",
        "X_transformed = preprocessor.fit_transform(X)\n",
        "\n",
        "print(\"Shape original:\", X.shape)\n",
        "print(\"Shape após transformação:\", X_transformed.shape)"
      ],
      "metadata": {
        "colab": {
          "base_uri": "https://localhost:8080/"
        },
        "id": "4yyoY9zoqsWG",
        "outputId": "6da45c51-b991-4633-d42c-ed3600ece11d"
      },
      "execution_count": 54,
      "outputs": [
        {
          "output_type": "stream",
          "name": "stdout",
          "text": [
            "Shape original: (891, 7)\n",
            "Shape após transformação: (891, 12)\n"
          ]
        }
      ]
    },
    {
      "cell_type": "code",
      "source": [
        "# Separar features e target\n",
        "X = df_model.drop(\"Survived\", axis=1)\n",
        "y = df_model[\"Survived\"]\n",
        "\n",
        "# Dividir em treino (80%) e teste (20%)\n",
        "X_train, X_test, y_train, y_test = train_test_split(\n",
        "    X, y, test_size=0.2, stratify=y, random_state=42\n",
        ")"
      ],
      "metadata": {
        "id": "d9KBbvgbrrs9"
      },
      "execution_count": 55,
      "outputs": []
    },
    {
      "cell_type": "code",
      "source": [
        "log_reg_model = Pipeline(steps=[\n",
        "    (\"preprocessor\", preprocessor),\n",
        "    (\"classifier\", LogisticRegression(max_iter=1000))\n",
        "])\n",
        "\n",
        "log_reg_model.fit(X_train, y_train)\n",
        "y_pred_log = log_reg_model.predict(X_test)\n",
        "\n",
        "print(\"  Regressão Logística  \")\n",
        "print(\"Accuracy:\", accuracy_score(y_test, y_pred_log))\n",
        "print(\"Precision:\", precision_score(y_test, y_pred_log))\n",
        "print(\"Recall:\", recall_score(y_test, y_pred_log))\n",
        "print(\"F1:\", f1_score(y_test, y_pred_log))\n",
        "print(\"\\nRelatório de classificação:\\n\", classification_report(y_test, y_pred_log))"
      ],
      "metadata": {
        "colab": {
          "base_uri": "https://localhost:8080/"
        },
        "id": "38EHmXRGr8XU",
        "outputId": "a43b727b-e5cf-4b69-ee3a-e0d41a18a41d"
      },
      "execution_count": 56,
      "outputs": [
        {
          "output_type": "stream",
          "name": "stdout",
          "text": [
            "  Regressão Logística  \n",
            "Accuracy: 0.8044692737430168\n",
            "Precision: 0.7931034482758621\n",
            "Recall: 0.6666666666666666\n",
            "F1: 0.7244094488188977\n",
            "\n",
            "Relatório de classificação:\n",
            "               precision    recall  f1-score   support\n",
            "\n",
            "           0       0.81      0.89      0.85       110\n",
            "           1       0.79      0.67      0.72        69\n",
            "\n",
            "    accuracy                           0.80       179\n",
            "   macro avg       0.80      0.78      0.79       179\n",
            "weighted avg       0.80      0.80      0.80       179\n",
            "\n"
          ]
        }
      ]
    },
    {
      "cell_type": "code",
      "source": [
        "rf_model = Pipeline(steps=[\n",
        "    (\"preprocessor\", preprocessor),\n",
        "    (\"classifier\", RandomForestClassifier(n_estimators=100, random_state=42))\n",
        "])\n",
        "\n",
        "rf_model.fit(X_train, y_train)\n",
        "y_pred_rf = rf_model.predict(X_test)\n",
        "\n",
        "print(\"\\n   Random Forest   \")\n",
        "print(\"Accuracy:\", accuracy_score(y_test, y_pred_rf))\n",
        "print(\"Precision:\", precision_score(y_test, y_pred_rf))\n",
        "print(\"Recall:\", recall_score(y_test, y_pred_rf))\n",
        "print(\"F1:\", f1_score(y_test, y_pred_rf))\n",
        "print(\"\\nRelatório de classificação:\\n\", classification_report(y_test, y_pred_rf))"
      ],
      "metadata": {
        "colab": {
          "base_uri": "https://localhost:8080/"
        },
        "id": "_gPxafDKsJmB",
        "outputId": "a9ad991b-9e56-4150-c087-841e9b6f0cde"
      },
      "execution_count": 57,
      "outputs": [
        {
          "output_type": "stream",
          "name": "stdout",
          "text": [
            "\n",
            "   Random Forest   \n",
            "Accuracy: 0.7932960893854749\n",
            "Precision: 0.7666666666666667\n",
            "Recall: 0.6666666666666666\n",
            "F1: 0.7131782945736435\n",
            "\n",
            "Relatório de classificação:\n",
            "               precision    recall  f1-score   support\n",
            "\n",
            "           0       0.81      0.87      0.84       110\n",
            "           1       0.77      0.67      0.71        69\n",
            "\n",
            "    accuracy                           0.79       179\n",
            "   macro avg       0.79      0.77      0.78       179\n",
            "weighted avg       0.79      0.79      0.79       179\n",
            "\n"
          ]
        }
      ]
    },
    {
      "cell_type": "code",
      "source": [
        "# Definir estilo\n",
        "sns.set(style=\"whitegrid\")\n",
        "\n",
        "# 1. Contagem de sobreviventes\n",
        "plt.figure(figsize=(6,4))\n",
        "sns.countplot(x=\"Survived\", data=df, palette=\"Set2\")\n",
        "plt.title(\"Distribuição de Sobreviventes\")\n",
        "plt.xticks([0,1], [\"Não Sobreviveu\", \"Sobreviveu\"])\n",
        "plt.show()"
      ],
      "metadata": {
        "colab": {
          "base_uri": "https://localhost:8080/",
          "height": 506
        },
        "id": "n2PgDxNrsqmK",
        "outputId": "764df601-6d73-490c-f944-6f9ab432385c"
      },
      "execution_count": 58,
      "outputs": [
        {
          "output_type": "stream",
          "name": "stderr",
          "text": [
            "/tmp/ipython-input-558807321.py:6: FutureWarning: \n",
            "\n",
            "Passing `palette` without assigning `hue` is deprecated and will be removed in v0.14.0. Assign the `x` variable to `hue` and set `legend=False` for the same effect.\n",
            "\n",
            "  sns.countplot(x=\"Survived\", data=df, palette=\"Set2\")\n"
          ]
        },
        {
          "output_type": "display_data",
          "data": {
            "text/plain": [
              "<Figure size 600x400 with 1 Axes>"
            ],
            "image/png": "[encoded data removed]"
          },
          "metadata": {}
        }
      ]
    },
    {
      "cell_type": "code",
      "source": [
        "# 2. Sobrevivência por sexo\n",
        "plt.figure(figsize=(6,4))\n",
        "sns.countplot(x=\"Sex\", hue=\"Survived\", data=df, palette=\"Set1\")\n",
        "plt.title(\"Sobrevivência por Sexo\")\n",
        "plt.show()"
      ],
      "metadata": {
        "colab": {
          "base_uri": "https://localhost:8080/",
          "height": 419
        },
        "id": "e7AigSd3s6ei",
        "outputId": "97cbf214-6598-4e91-f6a3-65680e53ed0e"
      },
      "execution_count": 59,
      "outputs": [
        {
          "output_type": "display_data",
          "data": {
            "text/plain": [
              "<Figure size 600x400 with 1 Axes>"
            ],
            "image/png": "[encoded data removed]"
          },
          "metadata": {}
        }
      ]
    },
    {
      "cell_type": "code",
      "source": [
        "# 3. Sobrevivência por classe (Pclass)\n",
        "plt.figure(figsize=(6,4))\n",
        "sns.countplot(x=\"Pclass\", hue=\"Survived\", data=df, palette=\"Set3\")\n",
        "plt.title(\"Sobrevivência por Classe\")\n",
        "plt.show()"
      ],
      "metadata": {
        "colab": {
          "base_uri": "https://localhost:8080/",
          "height": 419
        },
        "id": "hDe4p6Kys8_C",
        "outputId": "3d64638e-527a-4928-c49e-d46fff8ef752"
      },
      "execution_count": 60,
      "outputs": [
        {
          "output_type": "display_data",
          "data": {
            "text/plain": [
              "<Figure size 600x400 with 1 Axes>"
            ],
            "image/png": "[encoded data removed]"
          },
          "metadata": {}
        }
      ]
    },
    {
      "cell_type": "code",
      "source": [
        "# 4. Distribuição de idades\n",
        "plt.figure(figsize=(8,5))\n",
        "sns.histplot(df[\"Age\"], bins=30, kde=True, color=\"blue\")\n",
        "plt.title(\"Distribuição das Idades dos Passageiros\")\n",
        "plt.xlabel(\"Idade\")\n",
        "plt.show()"
      ],
      "metadata": {
        "colab": {
          "base_uri": "https://localhost:8080/",
          "height": 496
        },
        "id": "01FTXk0Qtq3y",
        "outputId": "efcc85dd-e5fb-4364-a606-ed694dccb8ca"
      },
      "execution_count": 61,
      "outputs": [
        {
          "output_type": "display_data",
          "data": {
            "text/plain": [
              "<Figure size 800x500 with 1 Axes>"
            ],
            "image/png": "[encoded data removed]"
          },
          "metadata": {}
        }
      ]
    },
    {
      "cell_type": "code",
      "source": [
        "# 5. Boxplot de idade por sobrevivência\n",
        "plt.figure(figsize=(6,4))\n",
        "age_survived = df.groupby(\"Survived\")[\"Age\"].mean()\n",
        "age_survived.plot(kind=\"bar\", color=[\"red\",\"green\"])\n",
        "plt.title(\"Idade Média vs Sobrevivência\")\n",
        "plt.xticks([0,1], [\"Não Sobreviveu\", \"Sobreviveu\"], rotation=0)\n",
        "plt.ylabel(\"Idade Média\")\n",
        "plt.show()"
      ],
      "metadata": {
        "colab": {
          "base_uri": "https://localhost:8080/",
          "height": 419
        },
        "id": "WjnJylNKtssS",
        "outputId": "4caa1f16-5eef-4057-b9e1-217e80eb3ba9"
      },
      "execution_count": 62,
      "outputs": [
        {
          "output_type": "display_data",
          "data": {
            "text/plain": [
              "<Figure size 600x400 with 1 Axes>"
            ],
            "image/png": "[encoded data removed]"
          },
          "metadata": {}
        }
      ]
    },
    {
      "cell_type": "code",
      "source": [
        "# 6. Relação tarifa (Fare) vs sobrevivência\n",
        "plt.figure(figsize=(6,4))\n",
        "fare_survived = df.groupby(\"Survived\")[\"Fare\"].mean()\n",
        "fare_survived.plot(kind=\"bar\", color=[\"red\",\"green\"])\n",
        "plt.title(\"Tarifa Média vs Sobrevivência\")\n",
        "plt.xticks([0,1], [\"Não Sobreviveu\", \"Sobreviveu\"], rotation=0)\n",
        "plt.ylabel(\"Tarifa Média\")\n",
        "plt.show()"
      ],
      "metadata": {
        "colab": {
          "base_uri": "https://localhost:8080/",
          "height": 419
        },
        "id": "HOXsnnA4tuRq",
        "outputId": "d4a9126c-af05-460d-cec9-8284d9ec86af"
      },
      "execution_count": 63,
      "outputs": [
        {
          "output_type": "display_data",
          "data": {
            "text/plain": [
              "<Figure size 600x400 with 1 Axes>"
            ],
            "image/png": "[encoded data removed]"
          },
          "metadata": {}
        }
      ]
    },
    {
      "cell_type": "code",
      "source": [
        "# Features para prever idade (excluímos Age, mas podemos incluir HasCabin como indicadora)\n",
        "features_age = [\"Pclass\", \"Sex\", \"SibSp\", \"Parch\", \"Fare\", \"Embarked\", \"HasCabin\"]\n",
        "df_age = df[features_age + [\"Age\"]].copy()\n",
        "\n",
        "# Separar passageiros com idade conhecida para treinar\n",
        "df_age_train = df_age[df_age[\"Age\"].notna()]\n",
        "X_age = df_age_train[features_age]\n",
        "y_age = df_age_train[\"Age\"]\n",
        "\n",
        "# Divisão treino/teste\n",
        "X_train_age, X_test_age, y_train_age, y_test_age = train_test_split(\n",
        "    X_age, y_age, test_size=0.2, random_state=42\n",
        ")\n",
        "\n",
        "# Pipeline de pré-processamento (numéricas e categóricas)\n",
        "num_features = [\"SibSp\", \"Parch\", \"Fare\"]\n",
        "cat_features = [\"Pclass\", \"Sex\", \"Embarked\", \"HasCabin\"]\n",
        "\n",
        "num_transformer = Pipeline([\n",
        "    (\"imputer\", SimpleImputer(strategy=\"median\")),\n",
        "    (\"scaler\", StandardScaler())\n",
        "])\n",
        "\n",
        "cat_transformer = Pipeline([\n",
        "    (\"imputer\", SimpleImputer(strategy=\"most_frequent\")),\n",
        "    (\"onehot\", OneHotEncoder(handle_unknown=\"ignore\"))\n",
        "])\n",
        "\n",
        "preprocessor_age = ColumnTransformer([\n",
        "    (\"num\", num_transformer, num_features),\n",
        "    (\"cat\", cat_transformer, cat_features)\n",
        "])\n",
        "\n",
        "# Pipeline completo com Random Forest Regressor\n",
        "reg_pipeline = Pipeline([\n",
        "    (\"preprocessor\", preprocessor_age),\n",
        "    (\"regressor\", RandomForestRegressor(n_estimators=200, random_state=42))\n",
        "])\n",
        "\n",
        "# Treinar modelo\n",
        "reg_pipeline.fit(X_train_age, y_train_age)\n",
        "\n",
        "# Predição no conjunto de teste\n",
        "y_pred_age = reg_pipeline.predict(X_test_age)\n",
        "\n",
        "# Avaliar modelo\n",
        "mae = mean_absolute_error(y_test_age, y_pred_age)\n",
        "rmse = np.sqrt(mean_squared_error(y_test_age, y_pred_age))\n",
        "r2 = r2_score(y_test_age, y_pred_age)\n",
        "\n",
        "print(\"=== Avaliação do Random Forest Regressor ===\")\n",
        "print(\"MAE:\", mae)\n",
        "print(\"RMSE:\", rmse)\n",
        "print(\"R²:\", r2)\n",
        "\n",
        "# Preencher idades faltantes (somente se houver)\n",
        "mask_missing_age = df[\"Age\"].isna()\n",
        "if mask_missing_age.sum() > 0:\n",
        "    X_missing_age = df.loc[mask_missing_age, features_age]\n",
        "    predicted_ages = reg_pipeline.predict(X_missing_age)\n",
        "    df.loc[mask_missing_age, \"Age\"] = predicted_ages\n",
        "    print(\"\\nValores ausentes em 'Age' após imputação:\", df[\"Age\"].isna().sum())\n",
        "else:\n",
        "    print(\"\\nNão há valores nulos em 'Age' para preencher.\")\n"
      ],
      "metadata": {
        "colab": {
          "base_uri": "https://localhost:8080/"
        },
        "id": "RL5uwQDdvFwo",
        "outputId": "44e42e19-ec3b-4f6a-c692-47c6101cbe09"
      },
      "execution_count": 73,
      "outputs": [
        {
          "output_type": "stream",
          "name": "stdout",
          "text": [
            "=== Avaliação do Random Forest Regressor ===\n",
            "MAE: 7.8460292502601465\n",
            "RMSE: 11.046786457115624\n",
            "R²: 0.3554703998363392\n",
            "\n",
            "Não há valores nulos em 'Age' para preencher.\n"
          ]
        }
      ]
    }
  ]
}